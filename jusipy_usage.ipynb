{
 "cells": [
  {
   "cell_type": "markdown",
   "metadata": {},
   "source": [
    "# The JuSiPy project"
   ]
  },
  {
   "cell_type": "code",
   "execution_count": 1,
   "metadata": {},
   "outputs": [],
   "source": [
    "import jusipy\n",
    "import matplotlib.pylab as plt"
   ]
  },
  {
   "cell_type": "markdown",
   "metadata": {},
   "source": [
    "## Tools and Data"
   ]
  },
  {
   "cell_type": "markdown",
   "metadata": {},
   "source": [
    "### Land Deals\n",
    "\n",
    "jusipy provides interfaces for two Land Deal datasets:\n",
    "* Land Matrix : `jusipy.deals.LandMatrix`\n",
    "* GRAIN\n",
    "  * 2016 : `jusipy.deals.GRAIN`\n",
    "  * 2012 : `jusipy.deals.GRAIN_OLD`"
   ]
  },
  {
   "cell_type": "code",
   "execution_count": 2,
   "metadata": {},
   "outputs": [],
   "source": [
    "LM  = jusipy.deals.LandMatrix() # LandMatrix\n",
    "GR  = jusipy.deals.GRAIN()      # GRAIN 2016\n",
    "#GR2 = jusipy.deals.GRAIN_OLD()  # GRAIN 2012??"
   ]
  },
  {
   "cell_type": "markdown",
   "metadata": {},
   "source": [
    "These datasets have a uniform interface. Access the raw matrix with `LM.M`."
   ]
  },
  {
   "cell_type": "code",
   "execution_count": 3,
   "metadata": {},
   "outputs": [
    {
     "data": {
      "text/html": [
       "<div>\n",
       "<style scoped>\n",
       "    .dataframe tbody tr th:only-of-type {\n",
       "        vertical-align: middle;\n",
       "    }\n",
       "\n",
       "    .dataframe tbody tr th {\n",
       "        vertical-align: top;\n",
       "    }\n",
       "\n",
       "    .dataframe thead th {\n",
       "        text-align: right;\n",
       "    }\n",
       "</style>\n",
       "<table border=\"1\" class=\"dataframe\">\n",
       "  <thead>\n",
       "    <tr style=\"text-align: right;\">\n",
       "      <th></th>\n",
       "      <th>deal_id</th>\n",
       "      <th>target_country</th>\n",
       "      <th>location</th>\n",
       "      <th>investor_name</th>\n",
       "      <th>investor_country</th>\n",
       "      <th>intention</th>\n",
       "      <th>negotiation_status</th>\n",
       "      <th>implementation_status</th>\n",
       "      <th>intended_size</th>\n",
       "      <th>contract_size</th>\n",
       "      <th>...</th>\n",
       "      <th>nature_of_the_deal</th>\n",
       "      <th>data_source</th>\n",
       "      <th>contract_farming</th>\n",
       "      <th>crop</th>\n",
       "      <th>negotiation_year</th>\n",
       "      <th>negotiation_agreement</th>\n",
       "      <th>implementation_year</th>\n",
       "      <th>implementation_agreement</th>\n",
       "      <th>target_country_iso3</th>\n",
       "      <th>investor_country_iso3</th>\n",
       "    </tr>\n",
       "  </thead>\n",
       "  <tbody>\n",
       "    <tr>\n",
       "      <th>0</th>\n",
       "      <td>3</td>\n",
       "      <td>Myanmar</td>\n",
       "      <td>Rakhine, Myanmar</td>\n",
       "      <td>Andhra Pradesh Industrial Infrastructure Corpo...</td>\n",
       "      <td>[India]</td>\n",
       "      <td>Food crops</td>\n",
       "      <td>Intended</td>\n",
       "      <td>Project not started</td>\n",
       "      <td>20234.0</td>\n",
       "      <td>NaN</td>\n",
       "      <td>...</td>\n",
       "      <td>Lease / Concession</td>\n",
       "      <td>2008-10-29 http://www.asiantribune.com/?q=node...</td>\n",
       "      <td>NaN</td>\n",
       "      <td>Onion, Tea, Corn (Maize), Rice, Soya Beans, Su...</td>\n",
       "      <td>2007.0</td>\n",
       "      <td>Expression of interest</td>\n",
       "      <td>NaN</td>\n",
       "      <td>None</td>\n",
       "      <td>MMR</td>\n",
       "      <td>[IND]</td>\n",
       "    </tr>\n",
       "    <tr>\n",
       "      <th>1</th>\n",
       "      <td>4</td>\n",
       "      <td>Bangladesh</td>\n",
       "      <td>Noakhali, Bangladesh</td>\n",
       "      <td>Individual entrepreneurs from Bangladesh</td>\n",
       "      <td>[Bangladesh]</td>\n",
       "      <td>Livestock</td>\n",
       "      <td>Concluded</td>\n",
       "      <td>Project not started</td>\n",
       "      <td>5000.0</td>\n",
       "      <td>NaN</td>\n",
       "      <td>...</td>\n",
       "      <td>NaN</td>\n",
       "      <td>2011-11-06 http://www.future-agricultures.org/...</td>\n",
       "      <td>NaN</td>\n",
       "      <td>NaN</td>\n",
       "      <td>2003.0</td>\n",
       "      <td>Oral Agreement</td>\n",
       "      <td>2003.0</td>\n",
       "      <td>None</td>\n",
       "      <td>BGD</td>\n",
       "      <td>[BGD]</td>\n",
       "    </tr>\n",
       "    <tr>\n",
       "      <th>2</th>\n",
       "      <td>11</td>\n",
       "      <td>Cambodia</td>\n",
       "      <td>Ratanakiri Province, Cambodia</td>\n",
       "      <td>30/4 Gialani Company Limited</td>\n",
       "      <td>[Viet Nam]</td>\n",
       "      <td>Agriunspecified, Industry, Livestock</td>\n",
       "      <td>Concluded</td>\n",
       "      <td>None</td>\n",
       "      <td>NaN</td>\n",
       "      <td>9380.0</td>\n",
       "      <td>...</td>\n",
       "      <td>Lease / Concession</td>\n",
       "      <td>2009-01-01 http://www2.gtz.de/wbf/4tDx9kw63gma...</td>\n",
       "      <td>NaN</td>\n",
       "      <td>NaN</td>\n",
       "      <td>2005.0</td>\n",
       "      <td>Contract signed</td>\n",
       "      <td>NaN</td>\n",
       "      <td>None</td>\n",
       "      <td>KHM</td>\n",
       "      <td>[VNM]</td>\n",
       "    </tr>\n",
       "    <tr>\n",
       "      <th>3</th>\n",
       "      <td>12</td>\n",
       "      <td>Cambodia</td>\n",
       "      <td>Kratié, Cambodia</td>\n",
       "      <td>China Asean Resources Ltd.</td>\n",
       "      <td>[China,  Hong Kong Special Administrative Region]</td>\n",
       "      <td>For wood and fibre, Non-food agricultural comm...</td>\n",
       "      <td>Concluded</td>\n",
       "      <td>In operation</td>\n",
       "      <td>NaN</td>\n",
       "      <td>7000.0</td>\n",
       "      <td>...</td>\n",
       "      <td>Lease / Concession</td>\n",
       "      <td>2013-07-08 http://chinaaseanresources.com/2013...</td>\n",
       "      <td>NaN</td>\n",
       "      <td>Accacia, Rubber</td>\n",
       "      <td>2008.0</td>\n",
       "      <td>Contract signed</td>\n",
       "      <td>2011.0</td>\n",
       "      <td>production</td>\n",
       "      <td>KHM</td>\n",
       "      <td>[CHN, HKG]</td>\n",
       "    </tr>\n",
       "    <tr>\n",
       "      <th>4</th>\n",
       "      <td>13</td>\n",
       "      <td>Cambodia</td>\n",
       "      <td>Mondol Kiri, Cambodia</td>\n",
       "      <td>Agro Forestry Research</td>\n",
       "      <td>[China]</td>\n",
       "      <td>Non-food agricultural commodities</td>\n",
       "      <td>Concluded</td>\n",
       "      <td>None</td>\n",
       "      <td>NaN</td>\n",
       "      <td>7000.0</td>\n",
       "      <td>...</td>\n",
       "      <td>Lease / Concession</td>\n",
       "      <td>http://www.elc.maff.gov.kh/en/profile/18-mdk/6...</td>\n",
       "      <td>NaN</td>\n",
       "      <td>Accacia, Rubber</td>\n",
       "      <td>2009.0</td>\n",
       "      <td>Contract signed</td>\n",
       "      <td>NaN</td>\n",
       "      <td>None</td>\n",
       "      <td>KHM</td>\n",
       "      <td>[CHN]</td>\n",
       "    </tr>\n",
       "  </tbody>\n",
       "</table>\n",
       "<p>5 rows × 21 columns</p>\n",
       "</div>"
      ],
      "text/plain": [
       "   deal_id target_country                       location  \\\n",
       "0        3        Myanmar               Rakhine, Myanmar   \n",
       "1        4     Bangladesh           Noakhali, Bangladesh   \n",
       "2       11       Cambodia  Ratanakiri Province, Cambodia   \n",
       "3       12       Cambodia               Kratié, Cambodia   \n",
       "4       13       Cambodia          Mondol Kiri, Cambodia   \n",
       "\n",
       "                                       investor_name  \\\n",
       "0  Andhra Pradesh Industrial Infrastructure Corpo...   \n",
       "1           Individual entrepreneurs from Bangladesh   \n",
       "2                       30/4 Gialani Company Limited   \n",
       "3                         China Asean Resources Ltd.   \n",
       "4                             Agro Forestry Research   \n",
       "\n",
       "                                    investor_country  \\\n",
       "0                                            [India]   \n",
       "1                                       [Bangladesh]   \n",
       "2                                         [Viet Nam]   \n",
       "3  [China,  Hong Kong Special Administrative Region]   \n",
       "4                                            [China]   \n",
       "\n",
       "                                           intention negotiation_status  \\\n",
       "0                                         Food crops           Intended   \n",
       "1                                          Livestock          Concluded   \n",
       "2               Agriunspecified, Industry, Livestock          Concluded   \n",
       "3  For wood and fibre, Non-food agricultural comm...          Concluded   \n",
       "4                  Non-food agricultural commodities          Concluded   \n",
       "\n",
       "  implementation_status  intended_size  contract_size          ...           \\\n",
       "0   Project not started        20234.0            NaN          ...            \n",
       "1   Project not started         5000.0            NaN          ...            \n",
       "2                  None            NaN         9380.0          ...            \n",
       "3          In operation            NaN         7000.0          ...            \n",
       "4                  None            NaN         7000.0          ...            \n",
       "\n",
       "   nature_of_the_deal                                        data_source  \\\n",
       "0  Lease / Concession  2008-10-29 http://www.asiantribune.com/?q=node...   \n",
       "1                 NaN  2011-11-06 http://www.future-agricultures.org/...   \n",
       "2  Lease / Concession  2009-01-01 http://www2.gtz.de/wbf/4tDx9kw63gma...   \n",
       "3  Lease / Concession  2013-07-08 http://chinaaseanresources.com/2013...   \n",
       "4  Lease / Concession  http://www.elc.maff.gov.kh/en/profile/18-mdk/6...   \n",
       "\n",
       "  contract_farming                                               crop  \\\n",
       "0              NaN  Onion, Tea, Corn (Maize), Rice, Soya Beans, Su...   \n",
       "1              NaN                                                NaN   \n",
       "2              NaN                                                NaN   \n",
       "3              NaN                                    Accacia, Rubber   \n",
       "4              NaN                                    Accacia, Rubber   \n",
       "\n",
       "  negotiation_year   negotiation_agreement implementation_year  \\\n",
       "0           2007.0  Expression of interest                 NaN   \n",
       "1           2003.0          Oral Agreement              2003.0   \n",
       "2           2005.0         Contract signed                 NaN   \n",
       "3           2008.0         Contract signed              2011.0   \n",
       "4           2009.0         Contract signed                 NaN   \n",
       "\n",
       "   implementation_agreement target_country_iso3 investor_country_iso3  \n",
       "0                      None                 MMR                 [IND]  \n",
       "1                      None                 BGD                 [BGD]  \n",
       "2                      None                 KHM                 [VNM]  \n",
       "3                production                 KHM            [CHN, HKG]  \n",
       "4                      None                 KHM                 [CHN]  \n",
       "\n",
       "[5 rows x 21 columns]"
      ]
     },
     "execution_count": 3,
     "metadata": {},
     "output_type": "execute_result"
    }
   ],
   "source": [
    "LM.M[:5]"
   ]
  },
  {
   "cell_type": "markdown",
   "metadata": {},
   "source": [
    "Or query with `dealsFrom` and `dealsTo`."
   ]
  },
  {
   "cell_type": "code",
   "execution_count": 4,
   "metadata": {},
   "outputs": [
    {
     "data": {
      "text/html": [
       "<div>\n",
       "<style scoped>\n",
       "    .dataframe tbody tr th:only-of-type {\n",
       "        vertical-align: middle;\n",
       "    }\n",
       "\n",
       "    .dataframe tbody tr th {\n",
       "        vertical-align: top;\n",
       "    }\n",
       "\n",
       "    .dataframe thead th {\n",
       "        text-align: right;\n",
       "    }\n",
       "</style>\n",
       "<table border=\"1\" class=\"dataframe\">\n",
       "  <thead>\n",
       "    <tr style=\"text-align: right;\">\n",
       "      <th></th>\n",
       "      <th>deal_id</th>\n",
       "      <th>target_country</th>\n",
       "      <th>location</th>\n",
       "      <th>investor_name</th>\n",
       "      <th>investor_country</th>\n",
       "      <th>intention</th>\n",
       "      <th>negotiation_status</th>\n",
       "      <th>implementation_status</th>\n",
       "      <th>intended_size</th>\n",
       "      <th>contract_size</th>\n",
       "      <th>...</th>\n",
       "      <th>nature_of_the_deal</th>\n",
       "      <th>data_source</th>\n",
       "      <th>contract_farming</th>\n",
       "      <th>crop</th>\n",
       "      <th>negotiation_year</th>\n",
       "      <th>negotiation_agreement</th>\n",
       "      <th>implementation_year</th>\n",
       "      <th>implementation_agreement</th>\n",
       "      <th>target_country_iso3</th>\n",
       "      <th>investor_country_iso3</th>\n",
       "    </tr>\n",
       "  </thead>\n",
       "  <tbody>\n",
       "    <tr>\n",
       "      <th>371</th>\n",
       "      <td>892</td>\n",
       "      <td>Peru</td>\n",
       "      <td>Ica, Peru</td>\n",
       "      <td>DYER-CORIAT HOLDING, S.L, DEUTSCHE BANK AG, AN...</td>\n",
       "      <td>[Peru,  Germany,  United States of America,  L...</td>\n",
       "      <td>Food crops</td>\n",
       "      <td>Concluded</td>\n",
       "      <td>Startup phase</td>\n",
       "      <td>NaN</td>\n",
       "      <td>3300.0</td>\n",
       "      <td>...</td>\n",
       "      <td>Outright Purchase</td>\n",
       "      <td>2009-01-01 http://www.larevistaagraria.org/sit...</td>\n",
       "      <td>NaN</td>\n",
       "      <td>Food crops (no specification), Vegetables</td>\n",
       "      <td>2009.0</td>\n",
       "      <td>Contract signed</td>\n",
       "      <td>2008.0</td>\n",
       "      <td>no production</td>\n",
       "      <td>PER</td>\n",
       "      <td>[PER, DEU, USA, LUX]</td>\n",
       "    </tr>\n",
       "    <tr>\n",
       "      <th>1002</th>\n",
       "      <td>3248</td>\n",
       "      <td>Peru</td>\n",
       "      <td>Virú, Peru</td>\n",
       "      <td>DYER-CORIAT HOLDING, S.L, DEUTSCHE BANK AG, AN...</td>\n",
       "      <td>[Peru,  Germany,  United States of America,  L...</td>\n",
       "      <td>Food crops</td>\n",
       "      <td>Concluded</td>\n",
       "      <td>In operation</td>\n",
       "      <td>NaN</td>\n",
       "      <td>7700.0</td>\n",
       "      <td>...</td>\n",
       "      <td>Outright Purchase, Exploitation license</td>\n",
       "      <td>http://www.camposol.com.pe/quienes-somos/nosot...</td>\n",
       "      <td>NaN</td>\n",
       "      <td>Food crops (no specification)</td>\n",
       "      <td>2003.0</td>\n",
       "      <td>Contract signed</td>\n",
       "      <td>2006.0</td>\n",
       "      <td>production</td>\n",
       "      <td>PER</td>\n",
       "      <td>[PER, DEU, USA, LUX]</td>\n",
       "    </tr>\n",
       "  </tbody>\n",
       "</table>\n",
       "<p>2 rows × 21 columns</p>\n",
       "</div>"
      ],
      "text/plain": [
       "<jusipy.deals.landmatrix.LandMatrix at 0x11b0f0a48>"
      ]
     },
     "execution_count": 4,
     "metadata": {},
     "output_type": "execute_result"
    }
   ],
   "source": [
    "LM.dealsFrom('DEU').dealsTo('PER')"
   ]
  },
  {
   "cell_type": "markdown",
   "metadata": {},
   "source": [
    "### GIS tools\n",
    "\n",
    "The GIS submodule provides\n",
    "* Country Code Conversions : `jusipy.GIS.CountryCode`\n",
    "* Geocoding lookups:\n",
    "  * MapQuest : `jusipy.GIS.Geocode`\n",
    "  * Google : `jusipy.GIS.GoogleCode`\n",
    "* Utilities:\n",
    "  * `jusipy.GIS.projection`: Project a square matrix onto the (-90,90),(-180,180) coordinate system\n",
    "  * `jusipy.GIS.sample`: Randomly sample from the unit sphere, or from the (-90,90),(-180,180) coordinate system"
   ]
  },
  {
   "cell_type": "code",
   "execution_count": 5,
   "metadata": {},
   "outputs": [
    {
     "data": {
      "text/plain": [
       "countrycode(country='Germany', iso2='DE', iso3='DEU', number=276)"
      ]
     },
     "execution_count": 5,
     "metadata": {},
     "output_type": "execute_result"
    }
   ],
   "source": [
    "# The CountryCode utility allows you to convert between name, ISO2, ISO3 and numeric codes for countries.\n",
    "# to resolve ambiguities, it attempts to resolve differences by allowing for mistakes /changes in the country names\n",
    "\n",
    "CC = jusipy.GIS.CountryCode()\n",
    "CC['Germany']"
   ]
  },
  {
   "cell_type": "code",
   "execution_count": 9,
   "metadata": {},
   "outputs": [
    {
     "name": "stdout",
     "output_type": "stream",
     "text": [
      "Latitude and longitude [58.99057309999999, 5.7484604]\n",
      "Address Dragabergveien 46, 4085 Hundvåg, Norway\n"
     ]
    }
   ],
   "source": [
    "# The GeoCoding libraries often have a limit on what we can use, so we can cache them in firebase dictionary\n",
    "# This is implemented in the utils.FireDict object\n",
    "\n",
    "gc = jusipy.GIS.GoogleCode(cache=jusipy.utils.FireDict(sub='googlecode'))  # Google GeoCode\n",
    "#gc = jusipy.GIS.Geocode(cache=jusipy.utils.FireDict(sub='geocode'))    # openStreetMap GeoCode\n",
    "\n",
    "# The geocoding tools provide the .address and .latlong functions:\n",
    "print('Latitude and longitude', gc.address('Dragabergveien 46, 4085 Hundvaag, Norway'))\n",
    "print('Address', gc.latlong(58.99057309999999, 5.7484604))"
   ]
  },
  {
   "cell_type": "markdown",
   "metadata": {},
   "source": [
    "### Land Cover datasets"
   ]
  },
  {
   "cell_type": "code",
   "execution_count": 6,
   "metadata": {},
   "outputs": [],
   "source": [
    "# Land Cover features\n",
    "#USGS = jusipy.landcover.USGS(\"GFSAD1KCD\") # USGS\n",
    "# THIS TAKES A WHILE TO LOAD, so I have commented it out for now...\n",
    "GLCF = jusipy.landcover.GLCF(resolution='1deg')"
   ]
  },
  {
   "cell_type": "code",
   "execution_count": 7,
   "metadata": {},
   "outputs": [
    {
     "data": {
      "text/plain": [
       "array([1., 0., 0., 0., 0., 0., 0., 0., 0., 0., 0., 0., 0., 0., 0.])"
      ]
     },
     "execution_count": 7,
     "metadata": {},
     "output_type": "execute_result"
    }
   ],
   "source": [
    "GLCF.lookup(58.99057309999999, 5.7484604)"
   ]
  },
  {
   "cell_type": "code",
   "execution_count": 8,
   "metadata": {},
   "outputs": [
    {
     "data": {
      "text/plain": [
       "<matplotlib.axes._subplots.AxesSubplot at 0x1220a7860>"
      ]
     },
     "execution_count": 8,
     "metadata": {},
     "output_type": "execute_result"
    },
    {
     "data": {
      "image/png": "[encoded data removed]",
      "text/plain": [
       "<Figure size 432x288 with 1 Axes>"
      ]
     },
     "metadata": {
      "needs_background": "light"
     },
     "output_type": "display_data"
    }
   ],
   "source": [
    "GLCF.draw()"
   ]
  },
  {
   "cell_type": "markdown",
   "metadata": {},
   "source": [
    "### Country level features\n",
    "\n",
    "Country level features have specific functionality that allow us to retrieve data for a specific year, but also allow a 'fuzzy' lookup - if data isn't available for a specific year, look in the past and in the future for a close-matching measure.\n",
    "\n",
    "Several country-level datasets are impemented (retrieved from the LandPortal, or the World Bank.\n",
    "\n",
    "They are provided in a uniform interface.\n",
    "\n",
    "These datasets are also combined in the `jusipy.features.All` structure, with the same interface as the individual datasets."
   ]
  },
  {
   "cell_type": "code",
   "execution_count": 1,
   "metadata": {},
   "outputs": [],
   "source": [
    "# Country-level features\n",
    "import jusipy\n",
    "\n",
    "LMM_PICL = jusipy.features.LMM_PICL() # Percentage of indigenous and Communal lands\n",
    "LMM_LISC = jusipy.features.LMM_LSIC() # Legal Security of Indigenous and Community Lands\n",
    "TI_CPI   = jusipy.features.TI_CPI()   # Corruption Percention Index\n",
    "WB_ARD   = jusipy.features.WB_ARD()   # Agricultural and Rural Development\n",
    "WB_SPL   = jusipy.features.WB_SPL()   # Social Protection and Labor indicators\n",
    "WB_SD    = jusipy.features.WB_SD()    # Social Development indicators\n",
    "WB_LGAF  = jusipy.features.WB_LGAF()  # Land Governance and Assessment Framework\n",
    "WB_SE    = jusipy.features.WB_SE()    # Socio-Economic Indicators\n",
    "WB_LG    = jusipy.features.WB_LG()    # Land and Gender Indicators\n",
    "\n",
    "A = jusipy.features.All([LMM_PICL, LMM_LISC, TI_CPI, WB_ARD, WB_SPL, WB_SD, WB_LGAF, WB_SE, WB_LG])"
   ]
  },
  {
   "cell_type": "markdown",
   "metadata": {},
   "source": [
    "You can query these datasets with the `get` function, which allows you to ask for the newest available data for each indicator:"
   ]
  },
  {
   "cell_type": "code",
   "execution_count": 5,
   "metadata": {},
   "outputs": [
    {
     "data": {
      "text/html": [
       "<div>\n",
       "<style scoped>\n",
       "    .dataframe tbody tr th:only-of-type {\n",
       "        vertical-align: middle;\n",
       "    }\n",
       "\n",
       "    .dataframe tbody tr th {\n",
       "        vertical-align: top;\n",
       "    }\n",
       "\n",
       "    .dataframe thead th {\n",
       "        text-align: right;\n",
       "    }\n",
       "</style>\n",
       "<table border=\"1\" class=\"dataframe\">\n",
       "  <thead>\n",
       "    <tr style=\"text-align: right;\">\n",
       "      <th></th>\n",
       "      <th>LMM_PICL__LMM_PICL_1TOT</th>\n",
       "      <th>LMM_PICL__LMM_PICL_2FR</th>\n",
       "      <th>LMM_PICL__LMM_PICL_3NFR</th>\n",
       "      <th>LMM_LSIC__LMM_LSIC_10CL</th>\n",
       "      <th>LMM_LSIC__LMM_LSIC_10IP</th>\n",
       "      <th>LMM_LSIC__LMM_LSIC_11AVCL</th>\n",
       "      <th>LMM_LSIC__LMM_LSIC_11AVIP</th>\n",
       "      <th>LMM_LSIC__LMM_LSIC_1CL</th>\n",
       "      <th>LMM_LSIC__LMM_LSIC_1IP</th>\n",
       "      <th>LMM_LSIC__LMM_LSIC_2CL</th>\n",
       "      <th>...</th>\n",
       "      <th>WB_LG__FAO_LG_2F</th>\n",
       "      <th>WB_LG__FAO_LG_2M</th>\n",
       "      <th>WB_LG__FAO_LG_3FA</th>\n",
       "      <th>WB_LG__FAO_LG_3FB</th>\n",
       "      <th>WB_LG__FAO_LG_3MA</th>\n",
       "      <th>WB_LG__FAO_LG_3MB</th>\n",
       "      <th>WB_LG__FAO_LG_4F</th>\n",
       "      <th>WB_LG__FAO_LG_4M</th>\n",
       "      <th>WB_LG__FAO_LG_5F</th>\n",
       "      <th>WB_LG__FAO_LG_5M</th>\n",
       "    </tr>\n",
       "  </thead>\n",
       "  <tbody>\n",
       "    <tr>\n",
       "      <th>0</th>\n",
       "      <td>None</td>\n",
       "      <td>None</td>\n",
       "      <td>None</td>\n",
       "      <td>4.0</td>\n",
       "      <td>None</td>\n",
       "      <td>2.0</td>\n",
       "      <td>None</td>\n",
       "      <td>2.0</td>\n",
       "      <td>None</td>\n",
       "      <td>2.0</td>\n",
       "      <td>...</td>\n",
       "      <td>None</td>\n",
       "      <td>None</td>\n",
       "      <td>None</td>\n",
       "      <td>None</td>\n",
       "      <td>None</td>\n",
       "      <td>None</td>\n",
       "      <td>None</td>\n",
       "      <td>None</td>\n",
       "      <td>None</td>\n",
       "      <td>None</td>\n",
       "    </tr>\n",
       "  </tbody>\n",
       "</table>\n",
       "<p>1 rows × 396 columns</p>\n",
       "</div>"
      ],
      "text/plain": [
       "  LMM_PICL__LMM_PICL_1TOT LMM_PICL__LMM_PICL_2FR LMM_PICL__LMM_PICL_3NFR  \\\n",
       "0                    None                   None                    None   \n",
       "\n",
       "   LMM_LSIC__LMM_LSIC_10CL LMM_LSIC__LMM_LSIC_10IP  LMM_LSIC__LMM_LSIC_11AVCL  \\\n",
       "0                      4.0                    None                        2.0   \n",
       "\n",
       "  LMM_LSIC__LMM_LSIC_11AVIP  LMM_LSIC__LMM_LSIC_1CL LMM_LSIC__LMM_LSIC_1IP  \\\n",
       "0                      None                     2.0                   None   \n",
       "\n",
       "   LMM_LSIC__LMM_LSIC_2CL        ...        WB_LG__FAO_LG_2F  \\\n",
       "0                     2.0        ...                    None   \n",
       "\n",
       "   WB_LG__FAO_LG_2M WB_LG__FAO_LG_3FA  WB_LG__FAO_LG_3FB WB_LG__FAO_LG_3MA  \\\n",
       "0              None              None               None              None   \n",
       "\n",
       "   WB_LG__FAO_LG_3MB WB_LG__FAO_LG_4F  WB_LG__FAO_LG_4M WB_LG__FAO_LG_5F  \\\n",
       "0               None             None              None             None   \n",
       "\n",
       "   WB_LG__FAO_LG_5M  \n",
       "0              None  \n",
       "\n",
       "[1 rows x 396 columns]"
      ]
     },
     "execution_count": 5,
     "metadata": {},
     "output_type": "execute_result"
    }
   ],
   "source": [
    "#A.get('DEU', year='newest') # Equivalent to ->\n",
    "A.get('DEU')"
   ]
  },
  {
   "cell_type": "markdown",
   "metadata": {},
   "source": [
    "You can also query for multiple countries"
   ]
  },
  {
   "cell_type": "code",
   "execution_count": 4,
   "metadata": {},
   "outputs": [
    {
     "data": {
      "text/plain": [
       "[CountryFeatures(TI_CPI_CPIRN=12.0, TI_CPI_CPIRO=14.0, TI_CPI_CPISN=81.0, TI_CPI_CPISO=8.04614),\n",
       " CountryFeatures(TI_CPI_CPIRN=59.0, TI_CPI_CPIRO=80.0, TI_CPI_CPISN=48.0, TI_CPI_CPISO=3.3889699999999996)]"
      ]
     },
     "execution_count": 4,
     "metadata": {},
     "output_type": "execute_result"
    }
   ],
   "source": [
    "TI_CPI.get(['DEU', 'GRC'])"
   ]
  },
  {
   "cell_type": "markdown",
   "metadata": {},
   "source": [
    "You can also specify a year with the `years=` argument"
   ]
  },
  {
   "cell_type": "code",
   "execution_count": 5,
   "metadata": {},
   "outputs": [
    {
     "data": {
      "text/plain": [
       "[CountryFeatures(TI_CPI_CPIRN=12.0, TI_CPI_CPIRO=None, TI_CPI_CPISN=81.0, TI_CPI_CPISO=None),\n",
       " CountryFeatures(TI_CPI_CPIRN=59.0, TI_CPI_CPIRO=None, TI_CPI_CPISN=48.0, TI_CPI_CPISO=None)]"
      ]
     },
     "execution_count": 5,
     "metadata": {},
     "output_type": "execute_result"
    }
   ],
   "source": [
    "# TI_CPI.get(['DEU', 'GRC'], years=[2017, 2017]) # Is equivalent to ->\n",
    "TI_CPI.get(['DEU', 'GRC'], years=2017)"
   ]
  },
  {
   "cell_type": "markdown",
   "metadata": {},
   "source": [
    "If there is no data available for a specific year, you can specify the number of years we should search around with the `fuzzy=` argument"
   ]
  },
  {
   "cell_type": "code",
   "execution_count": 9,
   "metadata": {},
   "outputs": [
    {
     "name": "stdout",
     "output_type": "stream",
     "text": [
      "5\n",
      "5\n"
     ]
    },
    {
     "data": {
      "text/plain": [
       "[CountryFeatures(TI_CPI_CPIRN=12.0, TI_CPI_CPIRO=14.0, TI_CPI_CPISN=81.0, TI_CPI_CPISO=8.04614),\n",
       " CountryFeatures(TI_CPI_CPIRN=59.0, TI_CPI_CPIRO=80.0, TI_CPI_CPISN=48.0, TI_CPI_CPISO=3.3889699999999996)]"
      ]
     },
     "execution_count": 9,
     "metadata": {},
     "output_type": "execute_result"
    }
   ],
   "source": [
    "TI_CPI.get(['DEU', 'GRC'], years=2017, fuzzy=5)"
   ]
  },
  {
   "cell_type": "markdown",
   "metadata": {},
   "source": [
    "You can also get a dataFrame as a result:"
   ]
  },
  {
   "cell_type": "code",
   "execution_count": 8,
   "metadata": {},
   "outputs": [
    {
     "name": "stdout",
     "output_type": "stream",
     "text": [
      "10\n",
      "10\n"
     ]
    },
    {
     "data": {
      "text/html": [
       "<div>\n",
       "<style scoped>\n",
       "    .dataframe tbody tr th:only-of-type {\n",
       "        vertical-align: middle;\n",
       "    }\n",
       "\n",
       "    .dataframe tbody tr th {\n",
       "        vertical-align: top;\n",
       "    }\n",
       "\n",
       "    .dataframe thead th {\n",
       "        text-align: right;\n",
       "    }\n",
       "</style>\n",
       "<table border=\"1\" class=\"dataframe\">\n",
       "  <thead>\n",
       "    <tr style=\"text-align: right;\">\n",
       "      <th></th>\n",
       "      <th></th>\n",
       "      <th>TI_CPI_CPIRN</th>\n",
       "      <th>TI_CPI_CPIRO</th>\n",
       "      <th>TI_CPI_CPISN</th>\n",
       "      <th>TI_CPI_CPISO</th>\n",
       "    </tr>\n",
       "    <tr>\n",
       "      <th>country</th>\n",
       "      <th>year</th>\n",
       "      <th></th>\n",
       "      <th></th>\n",
       "      <th></th>\n",
       "      <th></th>\n",
       "    </tr>\n",
       "  </thead>\n",
       "  <tbody>\n",
       "    <tr>\n",
       "      <th>DEU</th>\n",
       "      <th>2017</th>\n",
       "      <td>12.0</td>\n",
       "      <td>14.0</td>\n",
       "      <td>81.0</td>\n",
       "      <td>8.04614</td>\n",
       "    </tr>\n",
       "    <tr>\n",
       "      <th>GRC</th>\n",
       "      <th>2017</th>\n",
       "      <td>59.0</td>\n",
       "      <td>80.0</td>\n",
       "      <td>48.0</td>\n",
       "      <td>3.38897</td>\n",
       "    </tr>\n",
       "  </tbody>\n",
       "</table>\n",
       "</div>"
      ],
      "text/plain": [
       "              TI_CPI_CPIRN  TI_CPI_CPIRO  TI_CPI_CPISN  TI_CPI_CPISO\n",
       "country year                                                        \n",
       "DEU     2017          12.0          14.0          81.0       8.04614\n",
       "GRC     2017          59.0          80.0          48.0       3.38897"
      ]
     },
     "execution_count": 8,
     "metadata": {},
     "output_type": "execute_result"
    }
   ],
   "source": [
    "TI_CPI.get(['DEU', 'GRC'], years=2017, fuzzy=10, df=True)"
   ]
  },
  {
   "cell_type": "markdown",
   "metadata": {},
   "source": [
    "## Collecting features for the deals"
   ]
  },
  {
   "cell_type": "code",
   "execution_count": 1,
   "metadata": {},
   "outputs": [],
   "source": [
    "import jusipy\n",
    "LM = jusipy.deals.LandMatrix()"
   ]
  },
  {
   "cell_type": "code",
   "execution_count": 9,
   "metadata": {},
   "outputs": [],
   "source": [
    "import pandas as pd\n",
    "def get_features(deal_pd, feature, fuzzy=None):\n",
    "    countries = LM.M.target_country_iso3.values\n",
    "    years     = [ str(int(y)) if not pd.isna(y) else 'newest' for y in LM.M.negotiation_year.values ]\n",
    "    F = feature.get(countries, years, fuzzy=fuzzy, df=True)\n",
    "    F['index'] = deal_pd.index\n",
    "    return F.set_index('index')\n",
    "#edef\n",
    "\n",
    "def get_lat_long(deal_pd, gc):\n",
    "    latlong = pd.DataFrame([ gc.address(l) for l in deal_pd.location ], columns=['lat', 'long'])\n",
    "    latlong['index'] = deal_pd.index\n",
    "    return latlong.set_index('index')\n",
    "#edef"
   ]
  },
  {
   "cell_type": "code",
   "execution_count": 6,
   "metadata": {},
   "outputs": [
    {
     "ename": "NameError",
     "evalue": "name 'LM' is not defined",
     "output_type": "error",
     "traceback": [
      "\u001b[0;31m---------------------------------------------------------------------------\u001b[0m",
      "\u001b[0;31mNameError\u001b[0m                                 Traceback (most recent call last)",
      "\u001b[0;32m<ipython-input-6-5abe615352d3>\u001b[0m in \u001b[0;36m<module>\u001b[0;34m\u001b[0m\n\u001b[0;32m----> 1\u001b[0;31m \u001b[0mLMF\u001b[0m \u001b[0;34m=\u001b[0m \u001b[0mLM\u001b[0m\u001b[0;34m.\u001b[0m\u001b[0mM\u001b[0m\u001b[0;34m.\u001b[0m\u001b[0mjoin\u001b[0m\u001b[0;34m(\u001b[0m\u001b[0mget_lat_long\u001b[0m\u001b[0;34m(\u001b[0m\u001b[0mLM\u001b[0m\u001b[0;34m.\u001b[0m\u001b[0mM\u001b[0m\u001b[0;34m,\u001b[0m \u001b[0mgc\u001b[0m\u001b[0;34m)\u001b[0m\u001b[0;34m)\u001b[0m\u001b[0;34m.\u001b[0m\u001b[0mjoin\u001b[0m\u001b[0;34m(\u001b[0m\u001b[0mget_features\u001b[0m\u001b[0;34m(\u001b[0m\u001b[0mLM\u001b[0m\u001b[0;34m.\u001b[0m\u001b[0mM\u001b[0m\u001b[0;34m,\u001b[0m \u001b[0mCPI\u001b[0m\u001b[0;34m,\u001b[0m \u001b[0mfuzzy\u001b[0m\u001b[0;34m=\u001b[0m\u001b[0;36m10\u001b[0m\u001b[0;34m)\u001b[0m\u001b[0;34m)\u001b[0m\u001b[0;34m\u001b[0m\u001b[0m\n\u001b[0m\u001b[1;32m      2\u001b[0m \u001b[0mLMF\u001b[0m\u001b[0;34m\u001b[0m\u001b[0m\n",
      "\u001b[0;31mNameError\u001b[0m: name 'LM' is not defined"
     ]
    }
   ],
   "source": [
    "LMF = LM.M.join(get_lat_long(LM.M, gc)).join(get_features(LM.M, CPI, fuzzy=10))\n",
    "LMF"
   ]
  },
  {
   "cell_type": "markdown",
   "metadata": {},
   "source": [
    "## Additional stuff"
   ]
  },
  {
   "cell_type": "code",
   "execution_count": 53,
   "metadata": {},
   "outputs": [
    {
     "name": "stdout",
     "output_type": "stream",
     "text": [
      "FAO-LG.1FA\n",
      "[9.63772899e+00 7.21835493e-06]\n",
      "FAO-LG.1MA\n",
      "[9.76921813e+00 9.76581323e-07]\n",
      "FAO-LG.1MB\n",
      "[5.82422457 0.15392442]\n",
      "FAO-LG.1T\n",
      "[9.74630439e+00 8.64166530e-07]\n",
      "FAO-LG.3FA\n",
      "[9.46736541 2.31714247]\n",
      "FAO-LG.3FB\n",
      "[9.06934711 0.89785691]\n",
      "FAO-LG.3MB\n",
      "[9.20480939 0.70344472]\n",
      "FAO-LG.4F\n",
      "[9.91171484 1.54078881]\n",
      "FAO-LG.4M\n",
      "[9.69792681 0.49240248]\n",
      "SL.AGR.EMPL.ZS\n",
      "[4.94216188 0.24354908]\n",
      "SL.AGR.EMPL.MA.ZS\n",
      "[4.26224841 0.26975841]\n",
      "SL.AGR.EMPL.FE.ZS\n",
      "[6.27396091 0.18675766]\n",
      "SI.POV.RUHC\n",
      "[7.64924641 0.21788107]\n",
      "NV.AGR.TOTL.ZS\n",
      "[5.17557072 0.56136508]\n",
      "ER.H2O.FWAG.ZS\n",
      "[2.60491241 0.18041478]\n",
      "AG.PRD.FOOD.XD\n",
      "[-12.86403159   0.20792823]\n",
      "AG.PRD.CROP.XD\n",
      "[-11.642988     0.19804835]\n",
      "AG.LND.PRCP.MM\n",
      "[3.62921448 0.00883636]\n",
      "AG.LND.ARBL.HA.PC\n",
      "[ 6.54570722 22.1840645 ]\n",
      "AG.LND.ARBL.HA\n",
      "[8.03583546e+00 5.03304762e-07]\n",
      "SL.WAG.0714.ZS\n",
      "[7.00637192 0.8583792 ]\n",
      "SL.WAG.0714.MA.ZS\n",
      "[6.67953099 0.87162876]\n",
      "SL.WAG.0714.FE.ZS\n",
      "[7.7963611 0.7481908]\n",
      "SL.UEM.NEET.ZS\n",
      "[6.00133387 0.42303637]\n",
      "SL.TLF.TOTL.FE.ZS\n",
      "[-2.55477615  0.37129323]\n",
      "SL.TLF.PART.ZS\n",
      "[4.59647185 0.53520083]\n",
      "SL.TLF.PART.MA.ZS\n",
      "[4.63174817 0.69858972]\n",
      "SL.TLF.PART.FE.ZS\n",
      "[5.13443916 0.36512812]\n",
      "SL.TLF.INTM.ZS\n",
      "[1.71363186 0.28769912]\n",
      "SL.TLF.INTM.MA.ZS\n",
      "[1.27400615 0.25092406]\n",
      "SL.TLF.INTM.FE.ZS\n",
      "[1.50461315 0.21413588]\n",
      "SL.TLF.CACT.ZS\n",
      "[-4.92344035  0.28678167]\n",
      "SL.TLF.CACT.NE.ZS\n",
      "[-5.45299039  0.28728623]\n",
      "SL.TLF.CACT.MA.ZS\n",
      "[-2.64587536  0.20912187]\n",
      "SL.TLF.CACT.FM.ZS\n",
      "[-1.89334307  0.20357572]\n",
      "SL.TLF.CACT.FE.ZS\n",
      "[-4.3716652   0.33581707]\n",
      "SL.TLF.CACT.FE.NE.ZS\n",
      "[-2.46403607  0.28945899]\n",
      "SL.TLF.BASC.ZS\n",
      "[0.49645328 0.46651185]\n",
      "SL.TLF.BASC.MA.ZS\n",
      "[0.56642332 0.34776854]\n",
      "SL.TLF.BASC.FE.ZS\n",
      "[1.32869976 0.26199016]\n",
      "SL.TLF.ADVN.ZS\n",
      "[2.04323008 0.206934  ]\n",
      "SL.TLF.ADVN.MA.ZS\n",
      "[1.62303822 0.20033717]\n",
      "SL.TLF.ADVN.FE.ZS\n",
      "[1.53045785 0.19112124]\n",
      "SL.TLF.ACTI.ZS\n",
      "[-2.67195412  0.22493433]\n",
      "SL.TLF.ACTI.FE.ZS\n",
      "[-2.07358097  0.25546823]\n",
      "SL.TLF.ACTI.1524.ZS\n",
      "[-3.25328959  0.36289297]\n",
      "SL.TLF.ACTI.1524.MA.ZS\n",
      "[-1.98167868  0.28941289]\n",
      "SL.TLF.ACTI.1524.FE.ZS\n",
      "[-1.91250921  0.38620468]\n",
      "SL.TLF.ACTI.1524.FE.NE.ZS\n",
      "[1.41944873 0.28382505]\n",
      "SL.TLF.0714.ZS\n",
      "[7.04320373 0.4986369 ]\n",
      "SL.TLF.0714.WK.ZS\n",
      "[6.49443252 0.47793418]\n",
      "SL.TLF.0714.WK.TM\n",
      "[4.56124616 0.80226639]\n",
      "SL.TLF.0714.WK.MA.ZS\n",
      "[6.01444502 0.54708611]\n",
      "SL.TLF.0714.WK.MA.TM\n",
      "[4.65758704 0.76250088]\n",
      "SL.TLF.0714.WK.FE.ZS\n",
      "[6.98859694 0.42595636]\n",
      "SL.TLF.0714.WK.FE.TM\n",
      "[4.683203   0.87317748]\n",
      "SL.TLF.0714.SW.ZS\n",
      "[2.64613907 0.28152769]\n",
      "SL.TLF.0714.SW.TM\n",
      "[4.83383578 1.34645369]\n",
      "SL.TLF.0714.SW.MA.ZS\n",
      "[2.78896777 0.27071615]\n",
      "SL.TLF.0714.SW.MA.TM\n",
      "[4.74055141 1.33868993]\n",
      "SL.TLF.0714.SW.FE.ZS\n",
      "[2.66749571 0.27641823]\n",
      "SL.TLF.0714.SW.FE.TM\n",
      "[4.97087245 1.37889417]\n",
      "SL.TLF.0714.MA.ZS\n",
      "[6.91733502 0.47802807]\n",
      "SL.TLF.0714.FE.ZS\n",
      "[7.24520487 0.51338195]\n",
      "SL.SRV.0714.ZS\n",
      "[8.00742761 0.47045199]\n",
      "SL.SRV.0714.MA.ZS\n",
      "[8.48774049 0.42755333]\n",
      "SL.SRV.0714.FE.ZS\n",
      "[8.3231315  0.31542639]\n",
      "SL.SLF.0714.ZS\n",
      "[7.80163275 1.83219316]\n",
      "SL.SLF.0714.MA.ZS\n",
      "[8.02438916 1.66172649]\n",
      "SL.SLF.0714.FE.ZS\n",
      "[7.46348883 2.15952056]\n",
      "SL.MNF.0714.ZS\n",
      "[7.80868534 2.02979702]\n",
      "SL.MNF.0714.MA.ZS\n",
      "[8.48743792 1.59910487]\n",
      "SL.MNF.0714.FE.ZS\n",
      "[7.56070223 2.15779202]\n",
      "SL.ISV.IFRM.ZS\n",
      "[5.07808193 0.44008947]\n",
      "SL.ISV.IFRM.MA.ZS\n",
      "[4.98244687 0.4610659 ]\n",
      "SL.ISV.IFRM.FE.ZS\n",
      "[5.20170895 0.41919748]\n",
      "SL.FAM.WORK.ZS\n",
      "[4.42419236 0.79321328]\n",
      "SL.FAM.WORK.MA.ZS\n",
      "[5.51407888 1.00508552]\n",
      "SL.FAM.WORK.FE.ZS\n",
      "[4.78073842 0.48138529]\n",
      "SL.FAM.0714.ZS\n",
      "[1.80488696 0.31885935]\n",
      "SL.FAM.0714.MA.ZS\n",
      "[1.77190122 0.32574396]\n",
      "SL.FAM.0714.FE.ZS\n",
      "[1.96967492 0.30573969]\n",
      "SL.EMP.VULN.ZS\n",
      "[1.19116404 0.29184888]\n",
      "SL.EMP.VULN.MA.ZS\n",
      "[1.09495284 0.30767397]\n",
      "SL.EMP.VULN.FE.ZS\n",
      "[1.86364544 0.25527869]\n",
      "SL.EMP.TOTL.SP.ZS\n",
      "[-4.50154479  0.30067382]\n",
      "SL.EMP.TOTL.SP.NE.ZS\n",
      "[-4.25916155  0.30015133]\n",
      "SL.EMP.TOTL.SP.MA.ZS\n",
      "[-2.58156104  0.22284579]\n",
      "SL.EMP.TOTL.SP.MA.NE.ZS\n",
      "[-1.65015087  0.22867894]\n",
      "SL.EMP.TOTL.SP.FE.ZS\n",
      "[-3.71354267  0.34948907]\n",
      "SL.EMP.TOTL.SP.FE.NE.ZS\n",
      "[-1.60548648  0.326828  ]\n",
      "SL.EMP.SELF.ZS\n",
      "[0.333913   0.28978157]\n",
      "SL.EMP.SELF.MA.ZS\n",
      "[-0.05259101  0.30465027]\n",
      "SL.EMP.SELF.FE.ZS\n",
      "[1.4057942  0.25515923]\n",
      "SL.EMP.1524.SP.ZS\n",
      "[-1.27735771  0.36760384]\n",
      "SL.EMP.1524.SP.NE.ZS\n",
      "[0.00541972 0.40798256]\n",
      "SL.EMP.1524.SP.MA.ZS\n",
      "[-0.6641455   0.30327711]\n",
      "SL.EMP.1524.SP.MA.NE.ZS\n",
      "[1.03068798 0.32627311]\n",
      "SL.EMP.1524.SP.FE.ZS\n",
      "[0.24244249 0.38316333]\n",
      "SL.EMP.1524.SP.FE.NE.ZS\n",
      "[1.68094535 0.41297659]\n",
      "SL.AGR.0714.ZS\n",
      "[4.76434185 0.3591422 ]\n",
      "SL.AGR.0714.MA.ZS\n",
      "[4.55417119 0.35876238]\n",
      "SL.AGR.0714.FE.ZS\n",
      "[5.29078046 0.36419636]\n",
      "per_si_allsi.cov_q5_tot\n",
      "[7.32060617 0.38521844]\n",
      "per_si_allsi.cov_q4_tot\n",
      "[8.03003739 0.31721834]\n",
      "per_si_allsi.adq_pop_tot\n",
      "[5.25820646 0.43869638]\n",
      "per_sa_allsa.cov_q3_tot\n",
      "[7.74786442 0.22415838]\n",
      "per_sa_allsa.cov_q2_tot\n",
      "[7.01541103 0.24557549]\n",
      "per_sa_allsa.cov_q1_tot\n",
      "[6.32954616 0.2531784 ]\n",
      "per_sa_allsa.cov_pop_tot\n",
      "[7.43161742 0.25363991]\n",
      "per_sa_allsa.ben_q1_tot\n",
      "[5.6530657  0.63983428]\n",
      "per_allsp.cov_pop_tot\n",
      "[6.35473898 0.23757879]\n",
      "per_allsp.ben_q1_tot\n",
      "[7.46748481 0.90532187]\n",
      "per_allsp.adq_pop_tot\n",
      "[4.84515441 0.55751136]\n",
      "SP.ADO.TFRT\n",
      "[3.02735208 0.18056506]\n",
      "SE.ADT.1524.LT.FM.ZS\n",
      "[ 1.58539874 12.67749513]\n",
      "n_deals\n",
      "[3.27515792e-15 1.00000000e+00]\n"
     ]
    }
   ],
   "source": [
    "import statsmodels.api as sm\n",
    "\n",
    "for feature in A:\n",
    "    x = sm.OLS(A.n_deals.values, sm.add_constant(A[feature].values)).fit()\n",
    "    if x.pvalues[-1] < 0.005:\n",
    "        print(feature)\n",
    "        print(x.params)\n",
    "    #fi\n",
    "#efor"
   ]
  },
  {
   "cell_type": "code",
   "execution_count": 58,
   "metadata": {},
   "outputs": [
    {
     "data": {
      "text/plain": [
       "<matplotlib.collections.PathCollection at 0x1239b8780>"
      ]
     },
     "execution_count": 58,
     "metadata": {},
     "output_type": "execute_result"
    },
    {
     "data": {
      "image/png": "[encoded data removed]",
      "text/plain": [
       "<Figure size 432x288 with 1 Axes>"
      ]
     },
     "metadata": {
      "needs_background": "light"
     },
     "output_type": "display_data"
    }
   ],
   "source": [
    "plt.scatter(A.n_deals, A['SL.SLF.0714.ZS'])"
   ]
  },
  {
   "cell_type": "code",
   "execution_count": 13,
   "metadata": {},
   "outputs": [
    {
     "data": {
      "text/plain": [
       "<matplotlib.colorbar.Colorbar at 0x117cd15c0>"
      ]
     },
     "execution_count": 13,
     "metadata": {},
     "output_type": "execute_result"
    },
    {
     "data": {
      "image/png": "[encoded data removed]",
      "text/plain": [
       "<Figure size 432x288 with 2 Axes>"
      ]
     },
     "metadata": {
      "needs_background": "light"
     },
     "output_type": "display_data"
    }
   ],
   "source": [
    "plt.scatter(*list(zip(*list(A[['n_deals', 'score']].values))), c=A.n_deals > 10)\n",
    "plt.colorbar()"
   ]
  },
  {
   "cell_type": "code",
   "execution_count": 10,
   "metadata": {},
   "outputs": [
    {
     "name": "stdout",
     "output_type": "stream",
     "text": [
      "102 36.78333333333333\n",
      "86 48.10383872093023\n"
     ]
    },
    {
     "data": {
      "image/png": "[encoded data removed]",
      "text/plain": [
       "<Figure size 432x288 with 1 Axes>"
      ]
     },
     "metadata": {
      "needs_background": "light"
     },
     "output_type": "display_data"
    }
   ],
   "source": [
    "withLG = []\n",
    "withoutLG = []\n",
    "for ciso3 in CPI.countries_iso3:\n",
    "    if ciso3 in set(GR.countries_iso3 + LM.countries_iso3):\n",
    "        withLG.append(CPI.score(ciso3))\n",
    "    else:\n",
    "        withoutLG.append(CPI.score(ciso3))\n",
    "    #fi\n",
    "#efor\n",
    "import numpy as np\n",
    "\n",
    "\n",
    "plt.boxplot([withLG, withoutLG])\n",
    "print(len(withLG), np.mean(withLG))\n",
    "print(len(withoutLG), np.mean(withoutLG))"
   ]
  },
  {
   "cell_type": "markdown",
   "metadata": {},
   "source": [
    "## Sample random points on earth that are ONLY on land"
   ]
  },
  {
   "cell_type": "code",
   "execution_count": 2,
   "metadata": {},
   "outputs": [],
   "source": [
    "import jusipy\n",
    "import matplotlib.pylab as plt"
   ]
  },
  {
   "cell_type": "code",
   "execution_count": 4,
   "metadata": {},
   "outputs": [],
   "source": [
    "GLCF = jusipy.landcover.GLCF(resolution='8km')\n",
    "LM   = jusipy.deals.LandMatrix"
   ]
  },
  {
   "cell_type": "code",
   "execution_count": 3,
   "metadata": {},
   "outputs": [
    {
     "data": {
      "text/plain": [
       "<matplotlib.collections.PathCollection at 0x11ac3ea58>"
      ]
     },
     "execution_count": 3,
     "metadata": {},
     "output_type": "execute_result"
    },
    {
     "data": {
      "image/png": "[encoded data removed]",
      "text/plain": [
       "<Figure size 720x360 with 1 Axes>"
      ]
     },
     "metadata": {
      "needs_background": "light"
     },
     "output_type": "display_data"
    }
   ],
   "source": [
    "plt.figure(figsize=(10,5))\n",
    "lat, long = list(zip(*jusipy.GIS.sample.random_latlong(land=True, \n",
    "                                                       glcf=GLCF, \n",
    "                                                       size=10000)))\n",
    "plt.scatter(long, lat, s=1)"
   ]
  },
  {
   "cell_type": "code",
   "execution_count": null,
   "metadata": {},
   "outputs": [],
   "source": []
  }
 ],
 "metadata": {
  "kernelspec": {
   "display_name": "Python 3",
   "language": "python",
   "name": "python3"
  },
  "language_info": {
   "codemirror_mode": {
    "name": "ipython",
    "version": 3
   },
   "file_extension": ".py",
   "mimetype": "text/x-python",
   "name": "python",
   "nbconvert_exporter": "python",
   "pygments_lexer": "ipython3",
   "version": "3.6.6"
  }
 },
 "nbformat": 4,
 "nbformat_minor": 2
}
